{
 "cells": [
  {
   "cell_type": "code",
   "execution_count": null,
   "id": "484af7cf",
   "metadata": {},
   "outputs": [],
   "source": [
    "#Name:Tanzuma Tabassum\n",
    "#ID:21301329\n",
    "#Section:03"
   ]
  },
  {
   "cell_type": "code",
   "execution_count": 3,
   "id": "0bdb866c",
   "metadata": {},
   "outputs": [
    {
     "name": "stdout",
     "output_type": "stream",
     "text": [
      "5\n",
      "2\n",
      "0.5\n"
     ]
    }
   ],
   "source": [
    "#Task 1\n",
    "def fractional_part(numer,denom):\n",
    "\n",
    "    if denom>0:\n",
    "        return(numer%denom)/denom\n",
    "    return 0\n",
    "\n",
    "\n",
    "print(fractional_part(int(input()),int(input())))"
   ]
  },
  {
   "cell_type": "code",
   "execution_count": 7,
   "id": "9e6f7914",
   "metadata": {},
   "outputs": [
    {
     "name": "stdout",
     "output_type": "stream",
     "text": [
      "152\n",
      "48\n",
      "Score is 20.775623268698062 . You are Normal\n",
      " \n"
     ]
    }
   ],
   "source": [
    "#Task 2\n",
    "def calculate_BMI(height,weight):\n",
    "\n",
    "    height=height/100\n",
    "    BMI=weight/(height)**2\n",
    "\n",
    "    if BMI<18.5:\n",
    "        print(\"Score is\",BMI,\". You are Underweight\")\n",
    "    elif BMI>=18.5 and BMI<=24.9:\n",
    "        print(\"Score is\",BMI,\". You are Normal\")\n",
    "    elif BMI>=25 and BMI<=30:\n",
    "        print(\"Score is\",BMI,\". You are Overweight\")\n",
    "    elif BMI>30:\n",
    "        print(\"Score is\",BMI,\". You are Obese\")\n",
    "    else:\n",
    "        pass\n",
    "    return \" \"\n",
    "\n",
    "\n",
    "print(calculate_BMI(int(input()),int(input())))"
   ]
  },
  {
   "cell_type": "code",
   "execution_count": 9,
   "id": "902321cf",
   "metadata": {},
   "outputs": [
    {
     "name": "stdout",
     "output_type": "stream",
     "text": [
      "3\n",
      "16\n",
      "3\n",
      "45\n"
     ]
    }
   ],
   "source": [
    "#Task 3\n",
    "def calculation_of_divisors(mini,maxi,div):\n",
    "    value=0\n",
    "    for num in range(mini,maxi):\n",
    "        if num%div==0:\n",
    "            value+=num\n",
    "    return value\n",
    "\n",
    "\n",
    "print(calculation_of_divisors(int(input()),int(input()),int(input())))"
   ]
  },
  {
   "cell_type": "code",
   "execution_count": 9,
   "id": "9080f110",
   "metadata": {},
   "outputs": [
    {
     "name": "stdout",
     "output_type": "stream",
     "text": [
      "Beef Burger\n",
      "\n",
      "223.6\n"
     ]
    }
   ],
   "source": [
    "#Task 4\n",
    "def total_price(burger,place='Mohakhali'):\n",
    "    price=0\n",
    "\n",
    "    if burger=='BBQ Chicken Cheese Burger':\n",
    "        price=250\n",
    "    elif burger=='Beef Burger':\n",
    "        price=170\n",
    "    elif burger=='Naga Drums':\n",
    "        price=200\n",
    "    \n",
    "    if place==\"\":\n",
    "        price=(price*1.08)+40\n",
    "    else:\n",
    "        price=(price*1.08)+60\n",
    "        \n",
    "    return round(price,1)\n",
    "\n",
    "\n",
    "print(total_price(input(), input()))\n"
   ]
  },
  {
   "cell_type": "code",
   "execution_count": 11,
   "id": "dd43b078",
   "metadata": {},
   "outputs": [
    {
     "name": "stdout",
     "output_type": "stream",
     "text": [
      "alice@kaaj.com\n",
      "Changed: alice@sheba.xyz\n"
     ]
    }
   ],
   "source": [
    "#Task 5\n",
    "def replace_domain(email_address, new_domain=\"sheba.xyz\", old_domain=\"kaaj.com\"):\n",
    "    li=email_address.split('@')\n",
    "    \n",
    "    if li[1]==new_domain:\n",
    "        print('Unchanged:',email_address)\n",
    "    else:\n",
    "        new_email=li[0]+'@'+new_domain\n",
    "        print('Changed:',new_email)\n",
    "\n",
    "\n",
    "replace_domain(input())"
   ]
  },
  {
   "cell_type": "code",
   "execution_count": 3,
   "id": "2c426d48",
   "metadata": {},
   "outputs": [
    {
     "name": "stdout",
     "output_type": "stream",
     "text": [
      "Steve Jobs\n",
      "Vowels: e,e,o.Total number of vowels: 3\n"
     ]
    }
   ],
   "source": [
    "#Task 6\n",
    "def vowel_count():\n",
    "    full_name=input()\n",
    "    vowels=[]\n",
    "\n",
    "    for i in full_name:\n",
    "        if i in \"aeiouAEIOU\":\n",
    "            vowels.append(i)\n",
    "\n",
    "    if len(vowels)==0:\n",
    "        print(\"No vowels in the name\")\n",
    "    else:\n",
    "        print(\"Vowels: \"+\",\".join(vowels)+\".\"+\"Total number of vowels:\",len(vowels))\n",
    "\n",
    "\n",
    "vowel_count()"
   ]
  },
  {
   "cell_type": "code",
   "execution_count": 6,
   "id": "fd3d20c3",
   "metadata": {},
   "outputs": [
    {
     "name": "stdout",
     "output_type": "stream",
     "text": [
      "nurses run\n",
      "Palindrome\n"
     ]
    }
   ],
   "source": [
    "#Task 7\n",
    "def check_palindrome(st):\n",
    "\n",
    "    st=st.replace(\" \",\"\")\n",
    "\n",
    "    if st==st[::-1]:\n",
    "        return \"Palindrome\"\n",
    "    else:\n",
    "        return \"Not a palindrome\"\n",
    "\n",
    "\n",
    "print(check_palindrome(input()))"
   ]
  },
  {
   "cell_type": "code",
   "execution_count": 2,
   "id": "5c4f1165",
   "metadata": {},
   "outputs": [
    {
     "name": "stdout",
     "output_type": "stream",
     "text": [
      "4000\n",
      "10 years, 11 months and 20 days\n"
     ]
    }
   ],
   "source": [
    "#Task 8\n",
    "def number_of_days(days):\n",
    "    year=days//365\n",
    "\n",
    "    days%=365\n",
    "    month=days//30\n",
    "\n",
    "    days%=30\n",
    "    day=days\n",
    "    \n",
    "    print(year,\"years,\",month,\"months and\",day,\"days\")\n",
    "\n",
    "number_of_days(int(input()))"
   ]
  },
  {
   "cell_type": "code",
   "execution_count": 7,
   "id": "90b9f40e",
   "metadata": {},
   "outputs": [
    {
     "name": "stdout",
     "output_type": "stream",
     "text": [
      "my favourite animal is a dog. a dog has sharp teeth so that it can eat flesh very easily.  do you know my pet dog’s name? i love my pet very much.\n",
      "My favourite animal is a dog. A dog has sharp teeth so that it can eat flesh very easily. Do you know my pet dog’s name? I love my pet very much. \n"
     ]
    }
   ],
   "source": [
    "#Task 9\n",
    "def capitalize(letter):\n",
    "    letter[0]=letter[0].capitalize()\n",
    "\n",
    "    for i in range(1,len(letter)):\n",
    "        if letter[i-1][-1]=='.':\n",
    "            letter[i]=letter[i].capitalize()\n",
    "        if letter[i]==\"i\":\n",
    "            letter[i]=letter[i].capitalize()\n",
    "\n",
    "    return letter\n",
    "\n",
    "\n",
    "words=input().split()\n",
    "capitalized_words=capitalize(words)\n",
    "\n",
    "for i in range(0,len(capitalized_words)):\n",
    "    print(capitalized_words[i],end=\" \")\n",
    "\n",
    "print()"
   ]
  }
 ],
 "metadata": {
  "kernelspec": {
   "display_name": "Python 3",
   "language": "python",
   "name": "python3"
  },
  "language_info": {
   "codemirror_mode": {
    "name": "ipython",
    "version": 3
   },
   "file_extension": ".py",
   "mimetype": "text/x-python",
   "name": "python",
   "nbconvert_exporter": "python",
   "pygments_lexer": "ipython3",
   "version": "3.8.8"
  }
 },
 "nbformat": 4,
 "nbformat_minor": 5
}
