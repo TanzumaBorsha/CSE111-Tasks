{
 "cells": [
  {
   "cell_type": "code",
   "execution_count": null,
   "id": "529e71f2",
   "metadata": {},
   "outputs": [],
   "source": [
    "#STUDENT NAME:Tanzuma Tabassum\n",
    "#STUDENT ID:21301329\n",
    "#CSE110 THEORY SECTION:03"
   ]
  },
  {
   "cell_type": "code",
   "execution_count": 3,
   "id": "f6e6e351",
   "metadata": {},
   "outputs": [
    {
     "name": "stdout",
     "output_type": "stream",
     "text": [
      "ApplE\n",
      "apple\n"
     ]
    }
   ],
   "source": [
    "#String:Task 1\n",
    "st=input()\n",
    "up_count=0\n",
    "low_count=0\n",
    "for i in st:\n",
    "    if i in \"ABCDEFGHIJKLMNOPQRSTUVWXYZ\":\n",
    "        up_count+=1\n",
    "    else:\n",
    "        low_count+=1\n",
    "\n",
    "if up_count>low_count:\n",
    "    print(st.upper())\n",
    "elif up_count==low_count:\n",
    "    print(st.lower())\n",
    "else:\n",
    "    print(st.lower())"
   ]
  },
  {
   "cell_type": "code",
   "execution_count": 8,
   "id": "ff3d3e6b",
   "metadata": {},
   "outputs": [
    {
     "name": "stdout",
     "output_type": "stream",
     "text": [
      "jhg231j213\n",
      "MIXED\n"
     ]
    }
   ],
   "source": [
    "#String:Task 2\n",
    "st=input()\n",
    "num=False\n",
    "char=False\n",
    "\n",
    "for i in range(len(st)):\n",
    "    if st[i]>='0' and st[i]<='9':\n",
    "        num=True\n",
    "    else:\n",
    "        char=True\n",
    "\n",
    "if num==True and char==True:\n",
    "    print(\"MIXED\")\n",
    "elif num == True:\n",
    "    print(\"NUMBER\")\n",
    "else:\n",
    "    print(\"WORD\")"
   ]
  },
  {
   "cell_type": "code",
   "execution_count": 2,
   "id": "7be3cd28",
   "metadata": {},
   "outputs": [
    {
     "name": "stdout",
     "output_type": "stream",
     "text": [
      "baNgladEsh\n",
      "glad"
     ]
    }
   ],
   "source": [
    "#String:Task 3\n",
    "st = input()\n",
    "count=0\n",
    "\n",
    "for char in range(0,len(st)):\n",
    "    if st[char].isupper():\n",
    "        count+=1\n",
    "\n",
    "        if count==1:\n",
    "            x=char\n",
    "            continue\n",
    "\n",
    "        if count==2:\n",
    "            y=char\n",
    "            diff=y-x\n",
    "\n",
    "        if diff==1:\n",
    "            print(\"BLANK\")\n",
    "        break\n",
    "\n",
    "    if count==1:\n",
    "        print(st[char], end='')\n",
    "if count==0:\n",
    "    print(\"BLANK\")\n"
   ]
  },
  {
   "cell_type": "code",
   "execution_count": 10,
   "id": "98060d56",
   "metadata": {},
   "outputs": [
    {
     "name": "stdout",
     "output_type": "stream",
     "text": [
      "The book is not too good!\n",
      "The book is not excellent!\n"
     ]
    }
   ],
   "source": [
    "#String:Task 4\n",
    "user_str=input()\n",
    "st=\"too good\"\n",
    "x=user_str.find(st)\n",
    "y=x+len(st)\n",
    "\n",
    "if st in user_str:\n",
    "    replaced_str=user_str[:x]+\"excellent\"+user_str[y:]\n",
    "    print(replaced_str)\n",
    "else:\n",
    "    print(user_str)"
   ]
  },
  {
   "cell_type": "code",
   "execution_count": 12,
   "id": "e44bfdb0",
   "metadata": {},
   "outputs": [
    {
     "name": "stdout",
     "output_type": "stream",
     "text": [
      "harry\n",
      "hermione\n",
      "hrrhr\n"
     ]
    }
   ],
   "source": [
    "#String:Task 5\n",
    "s1=input()\n",
    "s2=input()\n",
    "st1=\"\"\n",
    "st2=\"\"\n",
    "for i in s1:\n",
    "        if i in s2:\n",
    "            st1+=i\n",
    "\n",
    "for j in s2:\n",
    "    if j in s1:\n",
    "        st2+=j\n",
    "print(st1+st2)\n",
    "\n",
    "if st1==\"\" and st2==\"\":\n",
    "    print(\"Nothing in common\")"
   ]
  },
  {
   "cell_type": "code",
   "execution_count": 5,
   "id": "68cd00ce",
   "metadata": {},
   "outputs": [
    {
     "name": "stdout",
     "output_type": "stream",
     "text": [
      "Enter your password:ohmybracu\n",
      "Uppercase missing\n",
      "Digit missing\n",
      "Special character missing\n"
     ]
    }
   ],
   "source": [
    "#String:Task 6\n",
    "st=input(\"Enter your password:\")\n",
    "low=0\n",
    "\n",
    "for i in st:\n",
    "    if i.islower():\n",
    "        low=1\n",
    "if low==0:\n",
    "    print(\"Lowercase missing\")\n",
    "\n",
    "upp=0\n",
    "for i in st:\n",
    "    if i.isupper():\n",
    "        upp=1\n",
    "if upp==0:\n",
    "    print(\"Uppercase missing\")\n",
    "\n",
    "digit=0\n",
    "for i in st:\n",
    "    if i.isdigit():\n",
    "        digit=1\n",
    "if digit==0:\n",
    "    print(\"Digit missing\")\n",
    "\n",
    "special=0\n",
    "spec_char= \"_$#@\"\n",
    "for i in st:\n",
    "    if i in spec_char:\n",
    "        special=1\n",
    "if special==0:\n",
    "    print(\"Special character missing\")\n",
    "\n",
    "if special!=0 and digit!=0 and upp!=0 and low==1:\n",
    "    print(\"OK\")"
   ]
  },
  {
   "cell_type": "code",
   "execution_count": 1,
   "id": "23dd88e8",
   "metadata": {},
   "outputs": [
    {
     "name": "stdout",
     "output_type": "stream",
     "text": [
      "10\n",
      "20\n",
      "20\n",
      "30\n",
      "10\n",
      "50\n",
      "90\n",
      "STOP\n",
      "10 - 2 times\n",
      "20 - 2 times\n",
      "20 - 2 times\n",
      "30 - 1 times\n",
      "10 - 2 times\n",
      "50 - 1 times\n",
      "90 - 1 times\n"
     ]
    }
   ],
   "source": [
    "#List:Task 1\n",
    "list=[]\n",
    "\n",
    "while True:\n",
    "    st=input()\n",
    "    list.append(st)\n",
    "    if st==\"STOP\":\n",
    "        list.pop()\n",
    "        break\n",
    "\n",
    "for i in list:\n",
    "    print(i,\"-\",list.count(i),\"times\")"
   ]
  },
  {
   "cell_type": "code",
   "execution_count": 1,
   "id": "b3ee95fd",
   "metadata": {},
   "outputs": [
    {
     "name": "stdout",
     "output_type": "stream",
     "text": [
      "Number of lists,N: 4\n",
      "List:1 2 3\n",
      "List:4 5 6\n",
      "List:10 11 12\n",
      "List:7 8 9\n",
      "33\n",
      "[10, 11, 12]\n"
     ]
    }
   ],
   "source": [
    "#List:Task 2\n",
    "num=int(input(\"Number of lists,N: \"))\n",
    "sum=0\n",
    "li=[int(i) for i in input(\"List:\").split(\" \")]\n",
    "new_li=li\n",
    "\n",
    "for i in li:\n",
    "    sum+=i\n",
    "\n",
    "for i in range(num-1):\n",
    "    total=0\n",
    "    li=[int(j) for j in input(\"List:\").split(\" \")]\n",
    "    for k in li:\n",
    "        total+=k\n",
    "\n",
    "    if total>sum:\n",
    "        sum=total\n",
    "        new_li=li\n",
    "\n",
    "print(sum)\n",
    "print(new_li)\n"
   ]
  },
  {
   "cell_type": "code",
   "execution_count": 2,
   "id": "2cffbabf",
   "metadata": {},
   "outputs": [
    {
     "name": "stdout",
     "output_type": "stream",
     "text": [
      "2 3 6\n",
      "3 4 5\n",
      "[6, 8, 10, 9, 12, 15, 18, 24, 30]\n"
     ]
    }
   ],
   "source": [
    "#List:Task 3\n",
    "li1=[int(i) for i in input().split(\" \")]\n",
    "li2=[int(j) for j in input().split(\" \")]\n",
    "new_list=[]\n",
    "\n",
    "for m in li1:\n",
    "    for n in li2:\n",
    "        new_list.append(m*n)\n",
    "print(new_list)"
   ]
  },
  {
   "cell_type": "code",
   "execution_count": 6,
   "id": "f18de500",
   "metadata": {},
   "outputs": [
    {
     "name": "stdout",
     "output_type": "stream",
     "text": [
      "1 4 2 3\n",
      "UB Jumper\n",
      "2 1 4 6 10\n",
      "UB Jumper\n",
      "1 4 2 -1 6\n",
      "Not UB Jumper\n",
      "STOP\n"
     ]
    }
   ],
   "source": [
    "#List:Task 4\n",
    "st = input()\n",
    "\n",
    "while st !=\"STOP\":\n",
    "    num=list(map(int,st.split()))\n",
    "    diff=[abs(num[i]-num[i + 1]) for i in range(len(num)-1)]\n",
    "\n",
    "    li=[]\n",
    "    for i in range(1,len(num)):\n",
    "        li.append(i)\n",
    "\n",
    "    count=0\n",
    "    for j in diff:\n",
    "        if j in li:\n",
    "            count+=1\n",
    "\n",
    "    if count==len(li):\n",
    "        print(\"UB Jumper\")\n",
    "        st=input()\n",
    "    else:\n",
    "        print(\"Not UB Jumper\")\n",
    "        st = input()"
   ]
  },
  {
   "cell_type": "code",
   "execution_count": 7,
   "id": "f6aff7c3",
   "metadata": {},
   "outputs": [
    {
     "name": "stdout",
     "output_type": "stream",
     "text": [
      "Bracu1234\n",
      "acruB1324\n"
     ]
    }
   ],
   "source": [
    "#List:Task 5\n",
    "upp=[]\n",
    "low=[]\n",
    "digit=[]\n",
    "\n",
    "st=input()\n",
    "\n",
    "for i in st:\n",
    "    if ord(\"a\") <= ord(i) <= ord(\"z\"):\n",
    "        low.append(i)\n",
    "    elif ord(\"A\") <= ord(i) <= ord(\"Z\"):\n",
    "        upp.append(i)\n",
    "    else:\n",
    "        digit.append(i)\n",
    "\n",
    "int_digit=[]\n",
    "even_li=[]\n",
    "odd_li=[]\n",
    "\n",
    "for m in digit:\n",
    "    int_digit.append(int(m))\n",
    "\n",
    "for n in int_digit:\n",
    "    if n%2==0:\n",
    "        even_li.append(n)\n",
    "    else:\n",
    "        odd_li.append(n)\n",
    "\n",
    "even_li_st=[]\n",
    "odd_li_st=[]\n",
    "\n",
    "for num1 in sorted(even_li):\n",
    "    even_li_st.append(str(num1))\n",
    "\n",
    "\n",
    "for num2 in sorted(odd_li):\n",
    "    odd_li_st.append(str(num2))\n",
    "\n",
    "final_li=sorted(low)+sorted(upp)+sorted(odd_li_st)+sorted(even_li_st)\n",
    "\n",
    "new_str=\"\"\n",
    "for j in final_li:\n",
    "    new_str+=j\n",
    "print(new_str)"
   ]
  },
  {
   "cell_type": "code",
   "execution_count": 11,
   "id": "2a522ba1",
   "metadata": {},
   "outputs": [
    {
     "name": "stdout",
     "output_type": "stream",
     "text": [
      "6 5\n",
      "0 0 0 0 0 0\n",
      "2\n"
     ]
    }
   ],
   "source": [
    "#List:Task 6\n",
    "li1=input().split(\" \")\n",
    "li2=input().split(\" \")\n",
    "count=0\n",
    "\n",
    "for count in range(len(li2)):\n",
    "    if int(li2[count])+int(li1[1])<=5:\n",
    "        count+=1\n",
    "\n",
    "print(count//3)"
   ]
  },
  {
   "cell_type": "code",
   "execution_count": 1,
   "id": "31ee8a5d",
   "metadata": {},
   "outputs": [
    {
     "name": "stdout",
     "output_type": "stream",
     "text": [
      "a:100,b:100,c:200,d:300\n",
      "a:300,b:200,d:400,e:200\n",
      "{'a': 400, 'b': 300, 'c': 200, 'd': 700, 'e': 200}\n",
      "Values: (200, 300, 400, 700)\n"
     ]
    }
   ],
   "source": [
    "#Dictionary:Task 1\n",
    "def convert_to_dict(value):\n",
    "    dict={}\n",
    "    for i in value.split(','):\n",
    "        key,val=i.split(':')\n",
    "        dict[key.strip()]=int(val)\n",
    "    return dict\n",
    "\n",
    "\n",
    "def new_dictionary():\n",
    "    st1 = input()\n",
    "    st2 = input()\n",
    "    dict1 = convert_to_dict(st1)\n",
    "    dict2 = convert_to_dict(st2)\n",
    "    dict3 = dict(dict1)\n",
    "\n",
    "    for key in dict2.keys():\n",
    "        if key not in dict3:\n",
    "            dict3[key] = dict2[key]\n",
    "        else:\n",
    "            dict3[key] += dict2[key]\n",
    "    print(dict3)\n",
    "\n",
    "    tup1= set(dict3.values())\n",
    "    tup1= tuple(sorted(tup1))\n",
    "    print(\"Values:\", tup1)\n",
    "\n",
    "new_dictionary()"
   ]
  },
  {
   "cell_type": "code",
   "execution_count": 2,
   "id": "dd073844",
   "metadata": {},
   "outputs": [
    {
     "name": "stdout",
     "output_type": "stream",
     "text": [
      "10\n",
      "20\n",
      "20\n",
      "30\n",
      "10\n",
      "50\n",
      "90\n",
      "STOP\n",
      "10 - 2 times\n",
      "20 - 2 times\n",
      "30 - 1 times\n",
      "50 - 1 times\n",
      "90 - 1 times\n",
      "\n"
     ]
    }
   ],
   "source": [
    "#Dictionary:Task 2\n",
    "dict={}\n",
    "num=\"\"\n",
    "\n",
    "while True:\n",
    "    num=input()\n",
    "    if num==\"STOP\":\n",
    "        break\n",
    "    if num in dict:\n",
    "        dict[num]+=1\n",
    "    else:\n",
    "        dict[num]=1\n",
    "\n",
    "for key,value in dict.items():\n",
    "    print(key,'-',value,'times')\n",
    "\n",
    "print()"
   ]
  },
  {
   "cell_type": "code",
   "execution_count": 4,
   "id": "50987709",
   "metadata": {},
   "outputs": [
    {
     "name": "stdout",
     "output_type": "stream",
     "text": [
      "Number of elements:3\n",
      "Enter key:key1\n",
      "Enter value:value1\n",
      "Enter key:key2\n",
      "Enter value:value2\n",
      "Enter key:key3\n",
      "Enter value:value1\n",
      "{'value1': ['key1', 'key3'], 'value2': ['key2']}\n"
     ]
    }
   ],
   "source": [
    "#Dictionary:Task 3\n",
    "num=int(input(\"Number of elements:\"))\n",
    "dict={}\n",
    "\n",
    "for i in range(num):\n",
    "    key=input(\"Enter key:\")\n",
    "    value=input(\"Enter value:\")\n",
    "    dict.update({key:value})\n",
    "\n",
    "invert_dict={}\n",
    "for key,value in dict.items():\n",
    "    invert_dict.setdefault(value,list()).append(key)\n",
    "\n",
    "print(invert_dict)"
   ]
  },
  {
   "cell_type": "code",
   "execution_count": 5,
   "id": "5062e274",
   "metadata": {},
   "outputs": [
    {
     "name": "stdout",
     "output_type": "stream",
     "text": [
      "evil\n",
      "live\n",
      "Those strings are anagrams\n"
     ]
    }
   ],
   "source": [
    "#Dictionary:Task 4\n",
    "st1=input()\n",
    "st2=input()\n",
    "dict={}\n",
    "answer=True\n",
    "\n",
    "for i in st1:\n",
    "    if i in dict.keys():\n",
    "        dict[i]+=1\n",
    "    else:\n",
    "        dict[i]=1\n",
    "\n",
    "for i in st2:\n",
    "    if i in dict.keys():\n",
    "        dict[i]-=1\n",
    "    else:\n",
    "        dict[i]=1\n",
    "\n",
    "for key in dict.keys():\n",
    "    if dict[key]!=0:\n",
    "        answer=False\n",
    "\n",
    "if answer:\n",
    "    print(\"Those strings are anagrams\")\n",
    "else:\n",
    "    print(\"Those strings are not anagrams\")"
   ]
  },
  {
   "cell_type": "code",
   "execution_count": 12,
   "id": "faeceab8",
   "metadata": {},
   "outputs": [
    {
     "name": "stdout",
     "output_type": "stream",
     "text": [
      "Hello,World!\n",
      "443355555566611966677755531111"
     ]
    }
   ],
   "source": [
    "#Dictionary:Task 5\n",
    "def values(value):\n",
    "    dict={1:\".,?!:\",2:\"ABC\",3:\"DEF\",4:\"GHI\",5:\"JKL\",6:\"MNO\",7:\"PQRS\",8:\"TUV\",9:\"WXYZ\",0:\" \"}\n",
    "\n",
    "    for i in range(1,len(dict)):\n",
    "        if value==\" \":\n",
    "            return 0\n",
    "        elif value in dict.get(i):\n",
    "            repeat=dict.get(i)\n",
    "\n",
    "            return str(i)*(repeat.index(value)+1)\n",
    "st=input()\n",
    "for value in st:\n",
    "    print(values(value.upper()),end=\"\")"
   ]
  }
 ],
 "metadata": {
  "kernelspec": {
   "display_name": "Python 3",
   "language": "python",
   "name": "python3"
  },
  "language_info": {
   "codemirror_mode": {
    "name": "ipython",
    "version": 3
   },
   "file_extension": ".py",
   "mimetype": "text/x-python",
   "name": "python",
   "nbconvert_exporter": "python",
   "pygments_lexer": "ipython3",
   "version": "3.8.8"
  }
 },
 "nbformat": 4,
 "nbformat_minor": 5
}
